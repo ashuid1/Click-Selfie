{
 "cells": [
  {
   "cell_type": "markdown",
   "id": "51dadbb9",
   "metadata": {},
   "source": [
    "# 👀👀👀 Taking Selfie 👀👀👀\n",
    "\n",
    "### To clic the selfi Press 'enter'\n",
    "### To Exit from the code prss 'esc'"
   ]
  },
  {
   "cell_type": "markdown",
   "id": "5391c22a",
   "metadata": {},
   "source": [
    "#### <center><img src= 'https://media4.giphy.com/media/v1.Y2lkPTc5MGI3NjExN3h6bHBxMDRwa2w3dmQ5dTFtMjBiaTAzMWJ1dDB0dHNrMHJxZzEwaSZlcD12MV9pbnRlcm5hbF9naWZfYnlfaWQmY3Q9Zw/4MXOacKpX7283FkyCT/giphy.gif' width=\"300\"></center>"
   ]
  },
  {
   "cell_type": "code",
   "execution_count": 2,
   "id": "873a2bba",
   "metadata": {},
   "outputs": [],
   "source": [
    "import numpy as np\n",
    "import cv2 as cv\n",
    "import matplotlib.pyplot as plt"
   ]
  },
  {
   "cell_type": "code",
   "execution_count": 5,
   "id": "eec3c002",
   "metadata": {},
   "outputs": [],
   "source": [
    "cam = cv.VideoCapture(0)\n",
    "while True:\n",
    "    _, img = cam.read()\n",
    "    \n",
    "    img  = cv.flip(img, 1)\n",
    "    \n",
    "    gray = cv.cvtColor(img, cv.COLOR_RGB2GRAY)\n",
    "    hsv = cv.cvtColor(img, cv.COLOR_RGB2HSV)\n",
    "    \n",
    "    cv.imshow('Frame', img)\n",
    "    key = cv.waitKey(20)\n",
    "    \n",
    "    if(key == 13):\n",
    "        cv.imwrite('Selfie.png',img)\n",
    "        cv.imwrite('Selfie_Gray.png',gray)\n",
    "        cv.imwrite('Selfie_hsv.png',hsv)\n",
    "        cam.release()\n",
    "        break"
   ]
  },
  {
   "cell_type": "markdown",
   "id": "82eeac84",
   "metadata": {},
   "source": [
    "### Clicking the multiple selfie"
   ]
  },
  {
   "cell_type": "code",
   "execution_count": 6,
   "id": "98f8c544",
   "metadata": {},
   "outputs": [],
   "source": [
    "cam = cv.VideoCapture(0)\n",
    "\n",
    "c = 1\n",
    "\n",
    "while True:\n",
    "    _, img = cam.read()\n",
    "    \n",
    "    img  = cv.flip(img, 1)\n",
    "    \n",
    "    cv.imshow('Frame', img)\n",
    "    key = cv.waitKey(30)\n",
    "    \n",
    "    if(key == 13):        ### Press enter to take selfie\n",
    "        cv.imwrite('Selfie/Selfie_'+str(c)+'.png', img)\n",
    "        c += 13\n",
    "        \n",
    "    if(key == 27):        ## press esc to exit\n",
    "        cam.release()\n",
    "        break"
   ]
  },
  {
   "cell_type": "code",
   "execution_count": null,
   "id": "75f75456",
   "metadata": {},
   "outputs": [],
   "source": []
  }
 ],
 "metadata": {
  "kernelspec": {
   "display_name": "Python 3 (ipykernel)",
   "language": "python",
   "name": "python3"
  },
  "language_info": {
   "codemirror_mode": {
    "name": "ipython",
    "version": 3
   },
   "file_extension": ".py",
   "mimetype": "text/x-python",
   "name": "python",
   "nbconvert_exporter": "python",
   "pygments_lexer": "ipython3",
   "version": "3.11.5"
  },
  "varInspector": {
   "cols": {
    "lenName": 16,
    "lenType": 16,
    "lenVar": 40
   },
   "kernels_config": {
    "python": {
     "delete_cmd_postfix": "",
     "delete_cmd_prefix": "del ",
     "library": "var_list.py",
     "varRefreshCmd": "print(var_dic_list())"
    },
    "r": {
     "delete_cmd_postfix": ") ",
     "delete_cmd_prefix": "rm(",
     "library": "var_list.r",
     "varRefreshCmd": "cat(var_dic_list()) "
    }
   },
   "types_to_exclude": [
    "module",
    "function",
    "builtin_function_or_method",
    "instance",
    "_Feature"
   ],
   "window_display": false
  }
 },
 "nbformat": 4,
 "nbformat_minor": 5
}
